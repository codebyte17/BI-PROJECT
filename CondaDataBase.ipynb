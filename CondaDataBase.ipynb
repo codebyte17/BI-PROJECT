{
 "cells": [
  {
   "cell_type": "code",
   "execution_count": 1,
   "id": "2bc4f613-23a2-4715-88c7-bca17241c764",
   "metadata": {},
   "outputs": [
    {
     "name": "stdout",
     "output_type": "stream",
     "text": [
      "Requirement already satisfied: pyexasol in d:\\projects\\anaconda\\lib\\site-packages (0.27.0)\n",
      "Requirement already satisfied: packaging in d:\\projects\\anaconda\\lib\\site-packages (from pyexasol) (23.2)\n",
      "Requirement already satisfied: pyopenssl in d:\\projects\\anaconda\\lib\\site-packages (from pyexasol) (24.0.0)\n",
      "Requirement already satisfied: rsa in d:\\projects\\anaconda\\lib\\site-packages (from pyexasol) (4.9)\n",
      "Requirement already satisfied: websocket-client>=1.0.1 in d:\\projects\\anaconda\\lib\\site-packages (from pyexasol) (1.8.0)\n",
      "Requirement already satisfied: cryptography<43,>=41.0.5 in d:\\projects\\anaconda\\lib\\site-packages (from pyopenssl->pyexasol) (42.0.5)\n",
      "Requirement already satisfied: pyasn1>=0.1.3 in d:\\projects\\anaconda\\lib\\site-packages (from rsa->pyexasol) (0.4.8)\n",
      "Requirement already satisfied: cffi>=1.12 in d:\\projects\\anaconda\\lib\\site-packages (from cryptography<43,>=41.0.5->pyopenssl->pyexasol) (1.16.0)\n",
      "Requirement already satisfied: pycparser in d:\\projects\\anaconda\\lib\\site-packages (from cffi>=1.12->cryptography<43,>=41.0.5->pyopenssl->pyexasol) (2.21)\n"
     ]
    }
   ],
   "source": [
    "!pip install pyexasol\n"
   ]
  },
  {
   "cell_type": "markdown",
   "id": "eed6680c-47eb-4066-b38c-e3dc115eb012",
   "metadata": {},
   "source": [
    "# DB connection"
   ]
  },
  {
   "cell_type": "code",
   "execution_count": 7,
   "id": "9ad8e016-6d33-49c4-8692-e6a1286c88d4",
   "metadata": {},
   "outputs": [],
   "source": [
    "import pyexasol\n",
    "import pandas as pd\n",
    "\n",
    "# Connect to the Exasol database\n",
    "connection = pyexasol.connect(dsn=\"192.168.56.101:8563\", user=\"sys\", password=\"exasol\", schema=\"AOL_SCHEMA\",protocol_version=1)\n",
    "\n"
   ]
  },
  {
   "cell_type": "markdown",
   "id": "4765abd8-fe9b-47be-8e5a-f77681c7fb04",
   "metadata": {},
   "source": [
    "# Import tables to Data frames"
   ]
  },
  {
   "cell_type": "code",
   "execution_count": 41,
   "id": "39b05725-4cd1-4ccf-b0c5-d302b37a7196",
   "metadata": {},
   "outputs": [],
   "source": [
    "import pprint\n",
    "printer = pprint.PrettyPrinter(indent=4, width=540)\n",
    "tables=['ERR_TAB', 'QUERYDIM', 'ANONIDDIM', 'URLDIM', 'URL_CATEGORY', 'TIMEDIM', 'DMOZ_CATEGORIES']\n"
   ]
  },
  {
   "cell_type": "code",
   "execution_count": 49,
   "id": "97aa7f00-c04b-41b5-b814-14617a07c794",
   "metadata": {},
   "outputs": [
    {
     "name": "stdout",
     "output_type": "stream",
     "text": [
      "   QUERYID   TIMEID  ANONID    URLID  IRANK  CLICK\n",
      "0     3840  3160387  449513   368418    NaN      0\n",
      "1     3841  6620007  248391   368418    NaN      0\n",
      "2     3841  1830852  248391  1546124   11.0      1\n",
      "3     3841  5064890  248391    72889   26.0      1\n",
      "4     3841   329732  248391   368418    NaN      0\n",
      "5     3842  2704365   88336   368418    NaN      0\n",
      "6     3843  1634858  412152   135629    6.0      1\n",
      "7     3843  1634858  412152   578567   10.0      1\n",
      "8     3844  3853528  636558   368418    NaN      0\n",
      "9     3844  2693093  636558   368418    NaN      0\n"
     ]
    }
   ],
   "source": [
    "\n",
    "# Get facts table\n",
    "query = \"SELECT * FROM FACTS LIMIT 10\"\n",
    "Facts = connection.export_to_pandas(query)\n",
    "printer.pprint((Facts))"
   ]
  },
  {
   "cell_type": "code",
   "execution_count": 77,
   "id": "a61f5b28-8c3d-4ebb-af07-280d650db0d9",
   "metadata": {},
   "outputs": [
    {
     "name": "stdout",
     "output_type": "stream",
     "text": [
      "0                donate cars cash\n",
      "1    cartwheels panthers allstars\n",
      "2                          baders\n",
      "3                     toocool.com\n",
      "4             wwwheartlandapp.com\n",
      "5      aa broward county meetings\n",
      "6                  www.alpeha.com\n",
      "7    www.outriggeluanhotelwaikiki\n",
      "8        herman's bakery business\n",
      "9                   h3bo3 nah2bo3\n",
      "Name: QUERY, dtype: object\n"
     ]
    }
   ],
   "source": [
    "# Query the QUERYDIM\n",
    "query = \"SELECT * FROM QUERYDIM LIMIT 10\"\n",
    "QUERYDIM = connection.export_to_pandas(query)\n",
    "printer.pprint((QUERYDIM.QUERY))"
   ]
  },
  {
   "cell_type": "code",
   "execution_count": 14,
   "id": "19bd40eb-1739-4658-925b-02bafe59ca33",
   "metadata": {},
   "outputs": [
    {
     "name": "stdout",
     "output_type": "stream",
     "text": [
      "     ANONID  ID\n",
      "0   9293684   1\n",
      "1  15074531   2\n",
      "2   6289426   3\n",
      "3  15793180   4\n",
      "4   5084791   5\n"
     ]
    }
   ],
   "source": [
    "# Query the ANONIDDIM\n",
    "query = \"SELECT * FROM ANONIDDIM LIMIT 5\"\n",
    "ANONIDDIM = connection.export_to_pandas(query)\n",
    "printer.pprint((ANONIDDIM))"
   ]
  },
  {
   "cell_type": "code",
   "execution_count": 16,
   "id": "12d778ed-de88-4f35-a94c-d35fee66df35",
   "metadata": {},
   "outputs": [
    {
     "name": "stdout",
     "output_type": "stream",
     "text": [
      "                                  URL  ID            TITLE  \\\n",
      "0     http://www.darrellmansfield.net   1              NaN   \n",
      "1      http://slr.kalashnikov.guns.ru   2              NaN   \n",
      "2      http://www.brendahofreiter.com   3              NaN   \n",
      "3       http://www.secret-coupons.com   4              NaN   \n",
      "4                http://z9.mxram.info   5              NaN   \n",
      "5  http://www.larrywilliamsphotog.com   6              NaN   \n",
      "6        http://www.mypetskeleton.com   7  Marcone, Vicent   \n",
      "7         http://www.siemoffshore.com   8              NaN   \n",
      "8             http://www.petromax.com   9              NaN   \n",
      "9           http://www.allinaname.com  10              NaN   \n",
      "\n",
      "                                         DESCRIPTION PROTOCOL SUBDOMAIN  \\\n",
      "0                                                NaN     http       www   \n",
      "1                                                NaN     http       slr   \n",
      "2                                                NaN     http       www   \n",
      "3                                                NaN     http       www   \n",
      "4                                                NaN     http        z9   \n",
      "5                                                NaN     http       www   \n",
      "6  Mixed media and digital humorously spooky illu...     http       www   \n",
      "7                                                NaN     http       www   \n",
      "8                                                NaN     http       www   \n",
      "9                                                NaN     http       www   \n",
      "\n",
      "            THISDOMAIN TOPLEVELDOMAIN  THISPATH  \n",
      "0     darrellmansfield            net       NaN  \n",
      "1     kalashnikov.guns             ru       NaN  \n",
      "2      brendahofreiter            com       NaN  \n",
      "3       secret-coupons            com       NaN  \n",
      "4                mxram           info       NaN  \n",
      "5  larrywilliamsphotog            com       NaN  \n",
      "6        mypetskeleton            com       NaN  \n",
      "7         siemoffshore            com       NaN  \n",
      "8             petromax            com       NaN  \n",
      "9           allinaname            com       NaN  \n"
     ]
    }
   ],
   "source": [
    "# Query the URLDIM\n",
    "query = \"SELECT * FROM URLDIM LIMIT 10\"\n",
    "#query = \"SELECT DISTINCT TOPLEVELDOMAIN FROM URLDIM\"\n",
    "\n",
    "URLDIM = connection.export_to_pandas(query)\n",
    "#URLDIM.to_csv(\"url.csv\")\n",
    "printer.pprint((URLDIM))"
   ]
  },
  {
   "cell_type": "code",
   "execution_count": 18,
   "id": "38c69222-5f38-435b-b8dc-1da08669a781",
   "metadata": {},
   "outputs": [
    {
     "name": "stdout",
     "output_type": "stream",
     "text": [
      "    URLID  CATEGORYID\n",
      "0  502469      982537\n",
      "1  502469      982537\n",
      "2  502469      982537\n",
      "3  502469      982537\n",
      "4  502469      982537\n",
      "5  502469      982537\n",
      "6  502469      982537\n",
      "7  502469      982537\n",
      "8  502469      982537\n",
      "9  502469      982537\n"
     ]
    }
   ],
   "source": [
    "# Query the URL_CATEGORY\n",
    "query = \"SELECT * FROM URL_CATEGORY LIMIT 10\"\n",
    "URL_CATEGORY = connection.export_to_pandas(query)\n",
    "printer.pprint((URL_CATEGORY))"
   ]
  },
  {
   "cell_type": "code",
   "execution_count": 176,
   "id": "438eebe1-695c-445f-ad42-d19a47a9eb6b",
   "metadata": {},
   "outputs": [
    {
     "ename": "ExaQueryError",
     "evalue": "\n(\n    message     =>  syntax error, unexpected '=', expecting '(' [line 2, column 35] (Session: 1815699415788877157)\n    dsn         =>  192.168.56.101:8563\n    user        =>  sys\n    schema      =>  AOL_SCHEMA\n    session_id  =>  1815699415788877157\n    code        =>  42000\n    query       =>  EXPORT (\nSELECT * FROM TIMEDIM WHERE month == 'april   ' LIMIT 10\n) INTO CSV\nAT 'https://27.1.0.10:43793' FILE '000.csv'\nWITH COLUMN NAMES\n)\n",
     "output_type": "error",
     "traceback": [
      "\u001b[1;31m---------------------------------------------------------------------------\u001b[0m",
      "\u001b[1;31mEmptyDataError\u001b[0m                            Traceback (most recent call last)",
      "File \u001b[1;32mD:\\Projects\\anaconda\\Lib\\site-packages\\pandas\\io\\parsers\\readers.py:1898\u001b[0m, in \u001b[0;36mTextFileReader._make_engine\u001b[1;34m(self, f, engine)\u001b[0m\n\u001b[0;32m   1897\u001b[0m \u001b[38;5;28;01mtry\u001b[39;00m:\n\u001b[1;32m-> 1898\u001b[0m     \u001b[38;5;28;01mreturn\u001b[39;00m mapping[engine](f, \u001b[38;5;241m*\u001b[39m\u001b[38;5;241m*\u001b[39m\u001b[38;5;28mself\u001b[39m\u001b[38;5;241m.\u001b[39moptions)\n\u001b[0;32m   1899\u001b[0m \u001b[38;5;28;01mexcept\u001b[39;00m \u001b[38;5;167;01mException\u001b[39;00m:\n",
      "File \u001b[1;32mD:\\Projects\\anaconda\\Lib\\site-packages\\pandas\\io\\parsers\\c_parser_wrapper.py:93\u001b[0m, in \u001b[0;36mCParserWrapper.__init__\u001b[1;34m(self, src, **kwds)\u001b[0m\n\u001b[0;32m     92\u001b[0m     import_optional_dependency(\u001b[38;5;124m\"\u001b[39m\u001b[38;5;124mpyarrow\u001b[39m\u001b[38;5;124m\"\u001b[39m)\n\u001b[1;32m---> 93\u001b[0m \u001b[38;5;28mself\u001b[39m\u001b[38;5;241m.\u001b[39m_reader \u001b[38;5;241m=\u001b[39m parsers\u001b[38;5;241m.\u001b[39mTextReader(src, \u001b[38;5;241m*\u001b[39m\u001b[38;5;241m*\u001b[39mkwds)\n\u001b[0;32m     95\u001b[0m \u001b[38;5;28mself\u001b[39m\u001b[38;5;241m.\u001b[39munnamed_cols \u001b[38;5;241m=\u001b[39m \u001b[38;5;28mself\u001b[39m\u001b[38;5;241m.\u001b[39m_reader\u001b[38;5;241m.\u001b[39munnamed_cols\n",
      "File \u001b[1;32mparsers.pyx:581\u001b[0m, in \u001b[0;36mpandas._libs.parsers.TextReader.__cinit__\u001b[1;34m()\u001b[0m\n",
      "\u001b[1;31mEmptyDataError\u001b[0m: No columns to parse from file",
      "\nDuring handling of the above exception, another exception occurred:\n",
      "\u001b[1;31mValueError\u001b[0m                                Traceback (most recent call last)",
      "File \u001b[1;32mD:\\Projects\\anaconda\\Lib\\site-packages\\pyexasol\\connection.py:329\u001b[0m, in \u001b[0;36mExaConnection.export_to_callback\u001b[1;34m(self, callback, dst, query_or_table, query_params, callback_params, export_params)\u001b[0m\n\u001b[0;32m    328\u001b[0m \u001b[38;5;28;01mwith\u001b[39;00m http_thread\u001b[38;5;241m.\u001b[39mread_pipe \u001b[38;5;28;01mas\u001b[39;00m pipe:\n\u001b[1;32m--> 329\u001b[0m     result \u001b[38;5;241m=\u001b[39m callback(pipe, dst, \u001b[38;5;241m*\u001b[39m\u001b[38;5;241m*\u001b[39mcallback_params)\n\u001b[0;32m    331\u001b[0m http_thread\u001b[38;5;241m.\u001b[39mjoin_with_exc()\n",
      "File \u001b[1;32mD:\\Projects\\anaconda\\Lib\\site-packages\\pyexasol\\callback.py:42\u001b[0m, in \u001b[0;36mexport_to_pandas\u001b[1;34m(pipe, dst, **kwargs)\u001b[0m\n\u001b[0;32m     41\u001b[0m \u001b[38;5;28;01mimport\u001b[39;00m \u001b[38;5;21;01mpandas\u001b[39;00m\n\u001b[1;32m---> 42\u001b[0m \u001b[38;5;28;01mreturn\u001b[39;00m pandas\u001b[38;5;241m.\u001b[39mread_csv(pipe, skip_blank_lines\u001b[38;5;241m=\u001b[39m\u001b[38;5;28;01mFalse\u001b[39;00m, \u001b[38;5;241m*\u001b[39m\u001b[38;5;241m*\u001b[39mkwargs)\n",
      "File \u001b[1;32mD:\\Projects\\anaconda\\Lib\\site-packages\\pandas\\io\\parsers\\readers.py:1026\u001b[0m, in \u001b[0;36mread_csv\u001b[1;34m(filepath_or_buffer, sep, delimiter, header, names, index_col, usecols, dtype, engine, converters, true_values, false_values, skipinitialspace, skiprows, skipfooter, nrows, na_values, keep_default_na, na_filter, verbose, skip_blank_lines, parse_dates, infer_datetime_format, keep_date_col, date_parser, date_format, dayfirst, cache_dates, iterator, chunksize, compression, thousands, decimal, lineterminator, quotechar, quoting, doublequote, escapechar, comment, encoding, encoding_errors, dialect, on_bad_lines, delim_whitespace, low_memory, memory_map, float_precision, storage_options, dtype_backend)\u001b[0m\n\u001b[0;32m   1024\u001b[0m kwds\u001b[38;5;241m.\u001b[39mupdate(kwds_defaults)\n\u001b[1;32m-> 1026\u001b[0m \u001b[38;5;28;01mreturn\u001b[39;00m _read(filepath_or_buffer, kwds)\n",
      "File \u001b[1;32mD:\\Projects\\anaconda\\Lib\\site-packages\\pandas\\io\\parsers\\readers.py:620\u001b[0m, in \u001b[0;36m_read\u001b[1;34m(filepath_or_buffer, kwds)\u001b[0m\n\u001b[0;32m    619\u001b[0m \u001b[38;5;66;03m# Create the parser.\u001b[39;00m\n\u001b[1;32m--> 620\u001b[0m parser \u001b[38;5;241m=\u001b[39m TextFileReader(filepath_or_buffer, \u001b[38;5;241m*\u001b[39m\u001b[38;5;241m*\u001b[39mkwds)\n\u001b[0;32m    622\u001b[0m \u001b[38;5;28;01mif\u001b[39;00m chunksize \u001b[38;5;129;01mor\u001b[39;00m iterator:\n",
      "File \u001b[1;32mD:\\Projects\\anaconda\\Lib\\site-packages\\pandas\\io\\parsers\\readers.py:1620\u001b[0m, in \u001b[0;36mTextFileReader.__init__\u001b[1;34m(self, f, engine, **kwds)\u001b[0m\n\u001b[0;32m   1619\u001b[0m \u001b[38;5;28mself\u001b[39m\u001b[38;5;241m.\u001b[39mhandles: IOHandles \u001b[38;5;241m|\u001b[39m \u001b[38;5;28;01mNone\u001b[39;00m \u001b[38;5;241m=\u001b[39m \u001b[38;5;28;01mNone\u001b[39;00m\n\u001b[1;32m-> 1620\u001b[0m \u001b[38;5;28mself\u001b[39m\u001b[38;5;241m.\u001b[39m_engine \u001b[38;5;241m=\u001b[39m \u001b[38;5;28mself\u001b[39m\u001b[38;5;241m.\u001b[39m_make_engine(f, \u001b[38;5;28mself\u001b[39m\u001b[38;5;241m.\u001b[39mengine)\n",
      "File \u001b[1;32mD:\\Projects\\anaconda\\Lib\\site-packages\\pandas\\io\\parsers\\readers.py:1901\u001b[0m, in \u001b[0;36mTextFileReader._make_engine\u001b[1;34m(self, f, engine)\u001b[0m\n\u001b[0;32m   1900\u001b[0m \u001b[38;5;28;01mif\u001b[39;00m \u001b[38;5;28mself\u001b[39m\u001b[38;5;241m.\u001b[39mhandles \u001b[38;5;129;01mis\u001b[39;00m \u001b[38;5;129;01mnot\u001b[39;00m \u001b[38;5;28;01mNone\u001b[39;00m:\n\u001b[1;32m-> 1901\u001b[0m     \u001b[38;5;28mself\u001b[39m\u001b[38;5;241m.\u001b[39mhandles\u001b[38;5;241m.\u001b[39mclose()\n\u001b[0;32m   1902\u001b[0m \u001b[38;5;28;01mraise\u001b[39;00m\n",
      "File \u001b[1;32mD:\\Projects\\anaconda\\Lib\\site-packages\\pandas\\io\\common.py:140\u001b[0m, in \u001b[0;36mIOHandles.close\u001b[1;34m(self)\u001b[0m\n\u001b[0;32m    139\u001b[0m \u001b[38;5;28;01massert\u001b[39;00m \u001b[38;5;28misinstance\u001b[39m(\u001b[38;5;28mself\u001b[39m\u001b[38;5;241m.\u001b[39mhandle, TextIOWrapper)\n\u001b[1;32m--> 140\u001b[0m \u001b[38;5;28mself\u001b[39m\u001b[38;5;241m.\u001b[39mhandle\u001b[38;5;241m.\u001b[39mflush()\n\u001b[0;32m    141\u001b[0m \u001b[38;5;28mself\u001b[39m\u001b[38;5;241m.\u001b[39mhandle\u001b[38;5;241m.\u001b[39mdetach()\n",
      "\u001b[1;31mValueError\u001b[0m: I/O operation on closed file.",
      "\nDuring handling of the above exception, another exception occurred:\n",
      "\u001b[1;31mExaQueryError\u001b[0m                             Traceback (most recent call last)",
      "Cell \u001b[1;32mIn[176], line 4\u001b[0m\n\u001b[0;32m      1\u001b[0m \u001b[38;5;66;03m# Query the TIMEDIM\u001b[39;00m\n\u001b[0;32m      2\u001b[0m query \u001b[38;5;241m=\u001b[39m \u001b[38;5;124m\"\u001b[39m\u001b[38;5;124mSELECT * FROM TIMEDIM WHERE month == \u001b[39m\u001b[38;5;124m'\u001b[39m\u001b[38;5;124mapril   \u001b[39m\u001b[38;5;124m'\u001b[39m\u001b[38;5;124m LIMIT 10\u001b[39m\u001b[38;5;124m\"\u001b[39m\n\u001b[1;32m----> 4\u001b[0m TIMEDIM \u001b[38;5;241m=\u001b[39m connection\u001b[38;5;241m.\u001b[39mexport_to_pandas(query)\n\u001b[0;32m      5\u001b[0m printer\u001b[38;5;241m.\u001b[39mpprint((TIMEDIM))\n",
      "File \u001b[1;32mD:\\Projects\\anaconda\\Lib\\site-packages\\pyexasol\\connection.py:293\u001b[0m, in \u001b[0;36mExaConnection.export_to_pandas\u001b[1;34m(self, query_or_table, query_params, callback_params, export_params)\u001b[0m\n\u001b[0;32m    289\u001b[0m     export_params \u001b[38;5;241m=\u001b[39m {}\n\u001b[0;32m    291\u001b[0m export_params[\u001b[38;5;124m'\u001b[39m\u001b[38;5;124mwith_column_names\u001b[39m\u001b[38;5;124m'\u001b[39m] \u001b[38;5;241m=\u001b[39m \u001b[38;5;28;01mTrue\u001b[39;00m\n\u001b[1;32m--> 293\u001b[0m \u001b[38;5;28;01mreturn\u001b[39;00m \u001b[38;5;28mself\u001b[39m\u001b[38;5;241m.\u001b[39mexport_to_callback(cb\u001b[38;5;241m.\u001b[39mexport_to_pandas, \u001b[38;5;28;01mNone\u001b[39;00m, query_or_table, query_params, callback_params, export_params)\n",
      "File \u001b[1;32mD:\\Projects\\anaconda\\Lib\\site-packages\\pyexasol\\connection.py:349\u001b[0m, in \u001b[0;36mExaConnection.export_to_callback\u001b[1;34m(self, callback, dst, query_or_table, query_params, callback_params, export_params)\u001b[0m\n\u001b[0;32m    347\u001b[0m \u001b[38;5;66;03m# Give SQL exception higher priority\u001b[39;00m\n\u001b[0;32m    348\u001b[0m \u001b[38;5;28;01mif\u001b[39;00m sql_thread\u001b[38;5;241m.\u001b[39mexc:\n\u001b[1;32m--> 349\u001b[0m     \u001b[38;5;28;01mraise\u001b[39;00m sql_thread\u001b[38;5;241m.\u001b[39mexc\n\u001b[0;32m    351\u001b[0m \u001b[38;5;28;01mraise\u001b[39;00m e\n",
      "File \u001b[1;32mD:\\Projects\\anaconda\\Lib\\site-packages\\pyexasol\\http_transport.py:35\u001b[0m, in \u001b[0;36mExaSQLThread.run\u001b[1;34m(self)\u001b[0m\n\u001b[0;32m     33\u001b[0m \u001b[38;5;28;01mdef\u001b[39;00m \u001b[38;5;21mrun\u001b[39m(\u001b[38;5;28mself\u001b[39m):\n\u001b[0;32m     34\u001b[0m     \u001b[38;5;28;01mtry\u001b[39;00m:\n\u001b[1;32m---> 35\u001b[0m         \u001b[38;5;28mself\u001b[39m\u001b[38;5;241m.\u001b[39mrun_sql()\n\u001b[0;32m     36\u001b[0m     \u001b[38;5;28;01mexcept\u001b[39;00m \u001b[38;5;167;01mBaseException\u001b[39;00m \u001b[38;5;28;01mas\u001b[39;00m e:\n\u001b[0;32m     37\u001b[0m         \u001b[38;5;28mself\u001b[39m\u001b[38;5;241m.\u001b[39mexc \u001b[38;5;241m=\u001b[39m e\n",
      "File \u001b[1;32mD:\\Projects\\anaconda\\Lib\\site-packages\\pyexasol\\http_transport.py:153\u001b[0m, in \u001b[0;36mExaSQLExportThread.run_sql\u001b[1;34m(self)\u001b[0m\n\u001b[0;32m    150\u001b[0m \u001b[38;5;28;01mif\u001b[39;00m \u001b[38;5;28mself\u001b[39m\u001b[38;5;241m.\u001b[39mparams\u001b[38;5;241m.\u001b[39mget(\u001b[38;5;124m'\u001b[39m\u001b[38;5;124mwith_column_names\u001b[39m\u001b[38;5;124m'\u001b[39m):\n\u001b[0;32m    151\u001b[0m     parts\u001b[38;5;241m.\u001b[39mappend(\u001b[38;5;124m\"\u001b[39m\u001b[38;5;124mWITH COLUMN NAMES\u001b[39m\u001b[38;5;124m\"\u001b[39m)\n\u001b[1;32m--> 153\u001b[0m \u001b[38;5;28mself\u001b[39m\u001b[38;5;241m.\u001b[39mconnection\u001b[38;5;241m.\u001b[39mexecute(\u001b[38;5;124m\"\u001b[39m\u001b[38;5;130;01m\\n\u001b[39;00m\u001b[38;5;124m\"\u001b[39m\u001b[38;5;241m.\u001b[39mjoin(parts))\n",
      "File \u001b[1;32mD:\\Projects\\anaconda\\Lib\\site-packages\\pyexasol\\connection.py:208\u001b[0m, in \u001b[0;36mExaConnection.execute\u001b[1;34m(self, query, query_params)\u001b[0m\n\u001b[0;32m    203\u001b[0m \u001b[38;5;28;01mdef\u001b[39;00m \u001b[38;5;21mexecute\u001b[39m(\u001b[38;5;28mself\u001b[39m, query, query_params\u001b[38;5;241m=\u001b[39m\u001b[38;5;28;01mNone\u001b[39;00m) \u001b[38;5;241m-\u001b[39m\u001b[38;5;241m>\u001b[39m ExaStatement:\n\u001b[0;32m    204\u001b[0m \u001b[38;5;250m    \u001b[39m\u001b[38;5;124;03m\"\"\"\u001b[39;00m\n\u001b[0;32m    205\u001b[0m \u001b[38;5;124;03m    Execute SQL query with optional query formatting parameters\u001b[39;00m\n\u001b[0;32m    206\u001b[0m \u001b[38;5;124;03m    Return ExaStatement object\u001b[39;00m\n\u001b[0;32m    207\u001b[0m \u001b[38;5;124;03m    \"\"\"\u001b[39;00m\n\u001b[1;32m--> 208\u001b[0m     \u001b[38;5;28;01mreturn\u001b[39;00m \u001b[38;5;28mself\u001b[39m\u001b[38;5;241m.\u001b[39mcls_statement(\u001b[38;5;28mself\u001b[39m, query, query_params)\n",
      "File \u001b[1;32mD:\\Projects\\anaconda\\Lib\\site-packages\\pyexasol\\statement.py:55\u001b[0m, in \u001b[0;36mExaStatement.__init__\u001b[1;34m(self, connection, query, query_params, prepare, meta_nosql, **options)\u001b[0m\n\u001b[0;32m     53\u001b[0m     \u001b[38;5;28mself\u001b[39m\u001b[38;5;241m.\u001b[39m_execute_meta_nosql()\n\u001b[0;32m     54\u001b[0m \u001b[38;5;28;01melse\u001b[39;00m:\n\u001b[1;32m---> 55\u001b[0m     \u001b[38;5;28mself\u001b[39m\u001b[38;5;241m.\u001b[39m_execute()\n",
      "File \u001b[1;32mD:\\Projects\\anaconda\\Lib\\site-packages\\pyexasol\\statement.py:157\u001b[0m, in \u001b[0;36mExaStatement._execute\u001b[1;34m(self)\u001b[0m\n\u001b[0;32m    156\u001b[0m \u001b[38;5;28;01mdef\u001b[39;00m \u001b[38;5;21m_execute\u001b[39m(\u001b[38;5;28mself\u001b[39m):\n\u001b[1;32m--> 157\u001b[0m     ret \u001b[38;5;241m=\u001b[39m \u001b[38;5;28mself\u001b[39m\u001b[38;5;241m.\u001b[39mconnection\u001b[38;5;241m.\u001b[39mreq({\n\u001b[0;32m    158\u001b[0m         \u001b[38;5;124m'\u001b[39m\u001b[38;5;124mcommand\u001b[39m\u001b[38;5;124m'\u001b[39m: \u001b[38;5;124m'\u001b[39m\u001b[38;5;124mexecute\u001b[39m\u001b[38;5;124m'\u001b[39m,\n\u001b[0;32m    159\u001b[0m         \u001b[38;5;124m'\u001b[39m\u001b[38;5;124msqlText\u001b[39m\u001b[38;5;124m'\u001b[39m: \u001b[38;5;28mself\u001b[39m\u001b[38;5;241m.\u001b[39mquery,\n\u001b[0;32m    160\u001b[0m     })\n\u001b[0;32m    162\u001b[0m     \u001b[38;5;28mself\u001b[39m\u001b[38;5;241m.\u001b[39mexecution_time \u001b[38;5;241m=\u001b[39m \u001b[38;5;28mself\u001b[39m\u001b[38;5;241m.\u001b[39mconnection\u001b[38;5;241m.\u001b[39mws_req_time\n\u001b[0;32m    163\u001b[0m     \u001b[38;5;28mself\u001b[39m\u001b[38;5;241m.\u001b[39m_init_result_set(ret)\n",
      "File \u001b[1;32mD:\\Projects\\anaconda\\Lib\\site-packages\\pyexasol\\connection.py:572\u001b[0m, in \u001b[0;36mExaConnection.req\u001b[1;34m(self, req)\u001b[0m\n\u001b[0;32m    569\u001b[0m     \u001b[38;5;28;01melse\u001b[39;00m:\n\u001b[0;32m    570\u001b[0m         cls_err \u001b[38;5;241m=\u001b[39m ExaQueryError\n\u001b[1;32m--> 572\u001b[0m     \u001b[38;5;28;01mraise\u001b[39;00m cls_err(\u001b[38;5;28mself\u001b[39m, req[\u001b[38;5;124m'\u001b[39m\u001b[38;5;124msqlText\u001b[39m\u001b[38;5;124m'\u001b[39m], ret[\u001b[38;5;124m'\u001b[39m\u001b[38;5;124mexception\u001b[39m\u001b[38;5;124m'\u001b[39m][\u001b[38;5;124m'\u001b[39m\u001b[38;5;124msqlCode\u001b[39m\u001b[38;5;124m'\u001b[39m], ret[\u001b[38;5;124m'\u001b[39m\u001b[38;5;124mexception\u001b[39m\u001b[38;5;124m'\u001b[39m][\u001b[38;5;124m'\u001b[39m\u001b[38;5;124mtext\u001b[39m\u001b[38;5;124m'\u001b[39m])\n\u001b[0;32m    573\u001b[0m \u001b[38;5;28;01melif\u001b[39;00m req\u001b[38;5;241m.\u001b[39mget(\u001b[38;5;124m'\u001b[39m\u001b[38;5;124musername\u001b[39m\u001b[38;5;124m'\u001b[39m) \u001b[38;5;129;01mis\u001b[39;00m \u001b[38;5;129;01mnot\u001b[39;00m \u001b[38;5;28;01mNone\u001b[39;00m:\n\u001b[0;32m    574\u001b[0m     \u001b[38;5;28;01mraise\u001b[39;00m ExaAuthError(\u001b[38;5;28mself\u001b[39m, ret[\u001b[38;5;124m'\u001b[39m\u001b[38;5;124mexception\u001b[39m\u001b[38;5;124m'\u001b[39m][\u001b[38;5;124m'\u001b[39m\u001b[38;5;124msqlCode\u001b[39m\u001b[38;5;124m'\u001b[39m], ret[\u001b[38;5;124m'\u001b[39m\u001b[38;5;124mexception\u001b[39m\u001b[38;5;124m'\u001b[39m][\u001b[38;5;124m'\u001b[39m\u001b[38;5;124mtext\u001b[39m\u001b[38;5;124m'\u001b[39m])\n",
      "\u001b[1;31mExaQueryError\u001b[0m: \n(\n    message     =>  syntax error, unexpected '=', expecting '(' [line 2, column 35] (Session: 1815699415788877157)\n    dsn         =>  192.168.56.101:8563\n    user        =>  sys\n    schema      =>  AOL_SCHEMA\n    session_id  =>  1815699415788877157\n    code        =>  42000\n    query       =>  EXPORT (\nSELECT * FROM TIMEDIM WHERE month == 'april   ' LIMIT 10\n) INTO CSV\nAT 'https://27.1.0.10:43793' FILE '000.csv'\nWITH COLUMN NAMES\n)\n"
     ]
    }
   ],
   "source": [
    "# Query the TIMEDIM\n",
    "query = \"SELECT * FROM TIMEDIM WHERE month == 'april   ' LIMIT 10\"\n",
    "\n",
    "TIMEDIM = connection.export_to_pandas(query)\n",
    "printer.pprint((TIMEDIM))"
   ]
  },
  {
   "cell_type": "code",
   "execution_count": null,
   "id": "8e0c1726-c4d7-4c10-bda9-c5d91595c818",
   "metadata": {},
   "outputs": [],
   "source": [
    "TIMEDIM.to_csv('TIMEDIM_data.csv', index=False)"
   ]
  },
  {
   "cell_type": "code",
   "execution_count": 166,
   "id": "0803a9dc-2c55-4ae0-af9e-f3020424fbd9",
   "metadata": {},
   "outputs": [
    {
     "name": "stdout",
     "output_type": "stream",
     "text": [
      "    CATID                                              TOPIC  \\\n",
      "0  268312  Top/World/Türkçe/Bölgesel/Orta_Doğu/Türkiye/Bö...   \n",
      "1  265817  Top/World/Türkçe/Bölgesel/Orta_Doğu/Türkiye/Bö...   \n",
      "2  265816  Top/World/Türkçe/Bölgesel/Orta_Doğu/Türkiye/Bö...   \n",
      "3  265805  Top/World/Türkçe/Bölgesel/Orta_Doğu/Türkiye/Bö...   \n",
      "4  265846  Top/World/Türkçe/Bölgesel/Orta_Doğu/Türkiye/Bö...   \n",
      "5  265856  Top/World/Türkçe/Bölgesel/Orta_Doğu/Türkiye/Bö...   \n",
      "6  265882  Top/World/Türkçe/Bölgesel/Orta_Doğu/Türkiye/Bö...   \n",
      "7  265851  Top/World/Türkçe/Bölgesel/Orta_Doğu/Türkiye/Bö...   \n",
      "8  265858  Top/World/Türkçe/Bölgesel/Orta_Doğu/Türkiye/Bö...   \n",
      "9  265869  Top/World/Türkçe/Bölgesel/Orta_Doğu/Türkiye/Bö...   \n",
      "\n",
      "                  TITLE                                        DESCRIPTION  \\\n",
      "0          Hobi_ve_Spor  Açık dizinin bu bölümünde Mersin ile ilgili ho...   \n",
      "1             Otlukbeli  Açık dizinin bu bölümünde Erzincan'ın Otlukbel...   \n",
      "2                Eğitim                                                NaN   \n",
      "3    Rehber_ve_Dizinler                                                NaN   \n",
      "4               Erzurum  Erzurum Vilayeti ile ilgili Türkçe web sayfaları.   \n",
      "5                Devlet  Açık dizinin bu bölümünde Erzurum ile ilgili d...   \n",
      "6   İlk_ve_Orta_Öğretim  İlk ve orta öğretim; ilköğretim birinci sınıft...   \n",
      "7  Harita_ve_Görüntüler  Açık dizinin bu bölümünde Erzurum ile ilgili h...   \n",
      "8               İlçeler  Açık dizinin bu bölümünde Erzurum'un ilçeleri ...   \n",
      "9                 Hınıs  Açık dizinin bu bölümünde Erzurum'un Hınıs ilç...   \n",
      "\n",
      "            LASTUPDATE LETTERBAR  FATHERID TOPIC_1 TOPIC_2 TOPIC_3  ...  \\\n",
      "0  2013-10-12 06:15:05         f    268292     Top   World  Türkçe  ...   \n",
      "1  2007-03-19 15:14:21         f    265811     Top   World  Türkçe  ...   \n",
      "2  2007-03-19 14:28:01         f    265815     Top   World  Türkçe  ...   \n",
      "3  2012-10-02 10:05:02         f    265801     Top   World  Türkçe  ...   \n",
      "4  2008-11-22 04:14:27         f    265784     Top   World  Türkçe  ...   \n",
      "5  2013-10-10 05:15:04         f    265846     Top   World  Türkçe  ...   \n",
      "6  2013-04-28 17:16:25         f    265881     Top   World  Türkçe  ...   \n",
      "7  2012-08-09 09:20:25         f    265846     Top   World  Türkçe  ...   \n",
      "8  2009-12-06 18:23:37         f    265846     Top   World  Türkçe  ...   \n",
      "9  2012-01-10 16:59:24         f    265858     Top   World  Türkçe  ...   \n",
      "\n",
      "   TOPIC_6   TOPIC_7       TOPIC_8   TOPIC_9              TOPIC_10  \\\n",
      "0  Türkiye  Bölgeler       Akdeniz    Mersin          Hobi_ve_Spor   \n",
      "1  Türkiye  Bölgeler  Doğu_Anadolu  Erzincan               İlçeler   \n",
      "2  Türkiye  Bölgeler  Doğu_Anadolu  Erzincan               İlçeler   \n",
      "3  Türkiye  Bölgeler  Doğu_Anadolu  Erzincan    Rehber_ve_Dizinler   \n",
      "4  Türkiye  Bölgeler  Doğu_Anadolu   Erzurum                   NaN   \n",
      "5  Türkiye  Bölgeler  Doğu_Anadolu   Erzurum                Devlet   \n",
      "6  Türkiye  Bölgeler  Doğu_Anadolu   Erzurum                Eğitim   \n",
      "7  Türkiye  Bölgeler  Doğu_Anadolu   Erzurum  Harita_ve_Görüntüler   \n",
      "8  Türkiye  Bölgeler  Doğu_Anadolu   Erzurum               İlçeler   \n",
      "9  Türkiye  Bölgeler  Doğu_Anadolu   Erzurum               İlçeler   \n",
      "\n",
      "              TOPIC_11 TOPIC_12 TOPIC_13 TOPIC_14  TOPIC_15  \n",
      "0                  NaN      NaN      NaN      NaN       NaN  \n",
      "1            Otlukbeli      NaN      NaN      NaN       NaN  \n",
      "2             Refahiye   Eğitim      NaN      NaN       NaN  \n",
      "3                  NaN      NaN      NaN      NaN       NaN  \n",
      "4                  NaN      NaN      NaN      NaN       NaN  \n",
      "5                  NaN      NaN      NaN      NaN       NaN  \n",
      "6  İlk_ve_Orta_Öğretim      NaN      NaN      NaN       NaN  \n",
      "7                  NaN      NaN      NaN      NaN       NaN  \n",
      "8                  NaN      NaN      NaN      NaN       NaN  \n",
      "9                Hınıs      NaN      NaN      NaN       NaN  \n",
      "\n",
      "[10 rows x 22 columns]\n"
     ]
    }
   ],
   "source": [
    "# Query the DMOZ_CATEGORIES\n",
    "query = \"SELECT * FROM DMOZ_CATEGORIES LIMIT 10\"\n",
    "DMOZ_CATEGORIES = connection.export_to_pandas(query)\n",
    "printer.pprint((DMOZ_CATEGORIES))"
   ]
  },
  {
   "cell_type": "markdown",
   "id": "e74a4887-a242-4631-bab8-784812c37979",
   "metadata": {},
   "source": [
    "## Creating table and inserting data"
   ]
  },
  {
   "cell_type": "code",
   "execution_count": 25,
   "id": "ece4c607-89ed-479a-8448-5e2be87ad04b",
   "metadata": {},
   "outputs": [
    {
     "ename": "ExaQueryError",
     "evalue": "\n(\n    message     =>  constraint violation - no primary key defined on referenced table (Session: 1815528069900118904)\n    dsn         =>  192.168.56.101:8563\n    user        =>  sys\n    schema      =>  AOL_SCHEMA\n    session_id  =>  1815528069900118904\n    code        =>  270A3\n    query       =>  CREATE TABLE employmentdataDIM (\n    \"State/Area\" VARCHAR(255),\n    \"Year\" INT,\n    \"Month\" VARCHAR(9),\n    \"Total Unemployment in State/Area\" VARCHAR(255),\n    \"Total Employment in State/Area\" VARCHAR(255),\n    \"Total Civilian Labor Force in State/Area\" VARCHAR(255),\n    \"Total Civilian Non-Institutional Population in State/Area\" VARCHAR(255),\n    PRIMARY KEY (\"State/Area\", \"Year\", \"Month\"),\n    FOREIGN KEY (\"Year\", \"Month\") REFERENCES TIMEDIM(\"year\", \"month\")\n)\n)\n",
     "output_type": "error",
     "traceback": [
      "\u001b[1;31m---------------------------------------------------------------------------\u001b[0m",
      "\u001b[1;31mExaQueryError\u001b[0m                             Traceback (most recent call last)",
      "Cell \u001b[1;32mIn[25], line 17\u001b[0m\n\u001b[0;32m      2\u001b[0m create_table_query \u001b[38;5;241m=\u001b[39m \u001b[38;5;124m\"\"\"\u001b[39m\n\u001b[0;32m      3\u001b[0m \u001b[38;5;124mCREATE TABLE employmentdataDIM (\u001b[39m\n\u001b[0;32m      4\u001b[0m \u001b[38;5;124m    \u001b[39m\u001b[38;5;124m\"\u001b[39m\u001b[38;5;124mState/Area\u001b[39m\u001b[38;5;124m\"\u001b[39m\u001b[38;5;124m VARCHAR(255),\u001b[39m\n\u001b[1;32m   (...)\u001b[0m\n\u001b[0;32m     13\u001b[0m \u001b[38;5;124m);\u001b[39m\n\u001b[0;32m     14\u001b[0m \u001b[38;5;124m\"\"\"\u001b[39m\n\u001b[0;32m     16\u001b[0m \u001b[38;5;66;03m# Execute query to create the table\u001b[39;00m\n\u001b[1;32m---> 17\u001b[0m connection\u001b[38;5;241m.\u001b[39mexecute(create_table_query)\n",
      "File \u001b[1;32mD:\\Projects\\anaconda\\Lib\\site-packages\\pyexasol\\connection.py:208\u001b[0m, in \u001b[0;36mExaConnection.execute\u001b[1;34m(self, query, query_params)\u001b[0m\n\u001b[0;32m    203\u001b[0m \u001b[38;5;28;01mdef\u001b[39;00m \u001b[38;5;21mexecute\u001b[39m(\u001b[38;5;28mself\u001b[39m, query, query_params\u001b[38;5;241m=\u001b[39m\u001b[38;5;28;01mNone\u001b[39;00m) \u001b[38;5;241m-\u001b[39m\u001b[38;5;241m>\u001b[39m ExaStatement:\n\u001b[0;32m    204\u001b[0m \u001b[38;5;250m    \u001b[39m\u001b[38;5;124;03m\"\"\"\u001b[39;00m\n\u001b[0;32m    205\u001b[0m \u001b[38;5;124;03m    Execute SQL query with optional query formatting parameters\u001b[39;00m\n\u001b[0;32m    206\u001b[0m \u001b[38;5;124;03m    Return ExaStatement object\u001b[39;00m\n\u001b[0;32m    207\u001b[0m \u001b[38;5;124;03m    \"\"\"\u001b[39;00m\n\u001b[1;32m--> 208\u001b[0m     \u001b[38;5;28;01mreturn\u001b[39;00m \u001b[38;5;28mself\u001b[39m\u001b[38;5;241m.\u001b[39mcls_statement(\u001b[38;5;28mself\u001b[39m, query, query_params)\n",
      "File \u001b[1;32mD:\\Projects\\anaconda\\Lib\\site-packages\\pyexasol\\statement.py:55\u001b[0m, in \u001b[0;36mExaStatement.__init__\u001b[1;34m(self, connection, query, query_params, prepare, meta_nosql, **options)\u001b[0m\n\u001b[0;32m     53\u001b[0m     \u001b[38;5;28mself\u001b[39m\u001b[38;5;241m.\u001b[39m_execute_meta_nosql()\n\u001b[0;32m     54\u001b[0m \u001b[38;5;28;01melse\u001b[39;00m:\n\u001b[1;32m---> 55\u001b[0m     \u001b[38;5;28mself\u001b[39m\u001b[38;5;241m.\u001b[39m_execute()\n",
      "File \u001b[1;32mD:\\Projects\\anaconda\\Lib\\site-packages\\pyexasol\\statement.py:157\u001b[0m, in \u001b[0;36mExaStatement._execute\u001b[1;34m(self)\u001b[0m\n\u001b[0;32m    156\u001b[0m \u001b[38;5;28;01mdef\u001b[39;00m \u001b[38;5;21m_execute\u001b[39m(\u001b[38;5;28mself\u001b[39m):\n\u001b[1;32m--> 157\u001b[0m     ret \u001b[38;5;241m=\u001b[39m \u001b[38;5;28mself\u001b[39m\u001b[38;5;241m.\u001b[39mconnection\u001b[38;5;241m.\u001b[39mreq({\n\u001b[0;32m    158\u001b[0m         \u001b[38;5;124m'\u001b[39m\u001b[38;5;124mcommand\u001b[39m\u001b[38;5;124m'\u001b[39m: \u001b[38;5;124m'\u001b[39m\u001b[38;5;124mexecute\u001b[39m\u001b[38;5;124m'\u001b[39m,\n\u001b[0;32m    159\u001b[0m         \u001b[38;5;124m'\u001b[39m\u001b[38;5;124msqlText\u001b[39m\u001b[38;5;124m'\u001b[39m: \u001b[38;5;28mself\u001b[39m\u001b[38;5;241m.\u001b[39mquery,\n\u001b[0;32m    160\u001b[0m     })\n\u001b[0;32m    162\u001b[0m     \u001b[38;5;28mself\u001b[39m\u001b[38;5;241m.\u001b[39mexecution_time \u001b[38;5;241m=\u001b[39m \u001b[38;5;28mself\u001b[39m\u001b[38;5;241m.\u001b[39mconnection\u001b[38;5;241m.\u001b[39mws_req_time\n\u001b[0;32m    163\u001b[0m     \u001b[38;5;28mself\u001b[39m\u001b[38;5;241m.\u001b[39m_init_result_set(ret)\n",
      "File \u001b[1;32mD:\\Projects\\anaconda\\Lib\\site-packages\\pyexasol\\connection.py:572\u001b[0m, in \u001b[0;36mExaConnection.req\u001b[1;34m(self, req)\u001b[0m\n\u001b[0;32m    569\u001b[0m     \u001b[38;5;28;01melse\u001b[39;00m:\n\u001b[0;32m    570\u001b[0m         cls_err \u001b[38;5;241m=\u001b[39m ExaQueryError\n\u001b[1;32m--> 572\u001b[0m     \u001b[38;5;28;01mraise\u001b[39;00m cls_err(\u001b[38;5;28mself\u001b[39m, req[\u001b[38;5;124m'\u001b[39m\u001b[38;5;124msqlText\u001b[39m\u001b[38;5;124m'\u001b[39m], ret[\u001b[38;5;124m'\u001b[39m\u001b[38;5;124mexception\u001b[39m\u001b[38;5;124m'\u001b[39m][\u001b[38;5;124m'\u001b[39m\u001b[38;5;124msqlCode\u001b[39m\u001b[38;5;124m'\u001b[39m], ret[\u001b[38;5;124m'\u001b[39m\u001b[38;5;124mexception\u001b[39m\u001b[38;5;124m'\u001b[39m][\u001b[38;5;124m'\u001b[39m\u001b[38;5;124mtext\u001b[39m\u001b[38;5;124m'\u001b[39m])\n\u001b[0;32m    573\u001b[0m \u001b[38;5;28;01melif\u001b[39;00m req\u001b[38;5;241m.\u001b[39mget(\u001b[38;5;124m'\u001b[39m\u001b[38;5;124musername\u001b[39m\u001b[38;5;124m'\u001b[39m) \u001b[38;5;129;01mis\u001b[39;00m \u001b[38;5;129;01mnot\u001b[39;00m \u001b[38;5;28;01mNone\u001b[39;00m:\n\u001b[0;32m    574\u001b[0m     \u001b[38;5;28;01mraise\u001b[39;00m ExaAuthError(\u001b[38;5;28mself\u001b[39m, ret[\u001b[38;5;124m'\u001b[39m\u001b[38;5;124mexception\u001b[39m\u001b[38;5;124m'\u001b[39m][\u001b[38;5;124m'\u001b[39m\u001b[38;5;124msqlCode\u001b[39m\u001b[38;5;124m'\u001b[39m], ret[\u001b[38;5;124m'\u001b[39m\u001b[38;5;124mexception\u001b[39m\u001b[38;5;124m'\u001b[39m][\u001b[38;5;124m'\u001b[39m\u001b[38;5;124mtext\u001b[39m\u001b[38;5;124m'\u001b[39m])\n",
      "\u001b[1;31mExaQueryError\u001b[0m: \n(\n    message     =>  constraint violation - no primary key defined on referenced table (Session: 1815528069900118904)\n    dsn         =>  192.168.56.101:8563\n    user        =>  sys\n    schema      =>  AOL_SCHEMA\n    session_id  =>  1815528069900118904\n    code        =>  270A3\n    query       =>  CREATE TABLE employmentdataDIM (\n    \"State/Area\" VARCHAR(255),\n    \"Year\" INT,\n    \"Month\" VARCHAR(9),\n    \"Total Unemployment in State/Area\" VARCHAR(255),\n    \"Total Employment in State/Area\" VARCHAR(255),\n    \"Total Civilian Labor Force in State/Area\" VARCHAR(255),\n    \"Total Civilian Non-Institutional Population in State/Area\" VARCHAR(255),\n    PRIMARY KEY (\"State/Area\", \"Year\", \"Month\"),\n    FOREIGN KEY (\"Year\", \"Month\") REFERENCES TIMEDIM(\"year\", \"month\")\n)\n)\n"
     ]
    }
   ],
   "source": [
    "\n",
    "# Define SQL query to create employmentdataDIM table\n",
    "create_table_query = \"\"\"\n",
    "CREATE TABLE employmentdataDIM (\n",
    "    \"State/Area\" VARCHAR(255),\n",
    "    \"Year\" INT,\n",
    "    \"Month\" VARCHAR(9),\n",
    "    \"Total Unemployment in State/Area\" VARCHAR(255),\n",
    "    \"Total Employment in State/Area\" VARCHAR(255),\n",
    "    \"Total Civilian Labor Force in State/Area\" VARCHAR(255),\n",
    "    \"Total Civilian Non-Institutional Population in State/Area\" VARCHAR(255),\n",
    "    PRIMARY KEY (\"State/Area\", \"Year\", \"Month\"),\n",
    "    FOREIGN KEY (\"Year\", \"Month\") REFERENCES TIMEDIM(\"year\", \"month\")\n",
    ");\n",
    "\"\"\"\n",
    "\n",
    "# Execute query to create the table\n",
    "connection.execute(create_table_query)"
   ]
  },
  {
   "cell_type": "code",
   "execution_count": 110,
   "id": "95de7336-6350-44a0-b599-751ac7f9bf2b",
   "metadata": {},
   "outputs": [],
   "source": [
    "q1='''SELECT \n",
    "    T.month AS month,\n",
    "    Q.QUERY AS keyword,\n",
    "    COUNT(F.QUERYID) AS search_count\n",
    "FROM \n",
    "    FACTS AS F\n",
    "JOIN \n",
    "    QUERYDIM AS Q ON F.QUERYID = Q.ID\n",
    "JOIN \n",
    "    TIMEDIM AS T ON F.TIMEID = T.ID\n",
    "WHERE \n",
    "        Q.QUERY LIKE '%is%' \n",
    "        OR Q.QUERY LIKE '%DATA%' \n",
    "        OR Q.QUERY LIKE '%Twitter%'\n",
    "GROUP BY \n",
    "    T.month, Q.QUERY\n",
    "ORDER BY \n",
    "    T.month, search_count DESC;\n",
    "'''\n",
    "\n",
    "q1_1='''SELECT \n",
    "    T.month,\n",
    "    Q.QUERY AS keyword,\n",
    "    COUNT(F.QUERYID) AS search_count\n",
    "FROM \n",
    "    FACTS AS F\n",
    "JOIN \n",
    "    QUERYDIM AS Q ON F.QUERYID = Q.ID\n",
    "JOIN \n",
    "    TIMEDIM AS T ON F.TIMEID = T.ID\n",
    "WHERE \n",
    "    (Q.QUERY LIKE '%employment%' \n",
    "     OR Q.QUERY LIKE '%job%'  \n",
    "     OR Q.QUERY LIKE '%Work%')\n",
    "    AND T.month IS NOT NULL\n",
    "    AND Q.QUERY IS NOT NULL\n",
    "    AND F.QUERYID IS NOT NULL\n",
    "    AND F.TIMEID IS NOT NULL\n",
    "GROUP BY \n",
    "    CUBE(T.month, Q.QUERY)\n",
    "ORDER BY \n",
    "    T.month, search_count DESC;\n",
    "'''"
   ]
  },
  {
   "cell_type": "code",
   "execution_count": 112,
   "id": "87c42b18-26bd-4b23-ab67-01743fc1ec1a",
   "metadata": {},
   "outputs": [
    {
     "ename": "ExaQueryError",
     "evalue": "\n(\n    message     =>  object T.MONTH not found [line 3, column 5] (Session: 1815699415788877157)\n    dsn         =>  192.168.56.101:8563\n    user        =>  sys\n    schema      =>  AOL_SCHEMA\n    session_id  =>  1815699415788877157\n    code        =>  42000\n    query       =>  EXPORT (\nSELECT \n    T.month,\n    Q.QUERY AS keyword,\n    COUNT(F.QUERYID) AS search_count\nFROM \n    FACTS AS F\nJOIN \n    QUERYDIM AS Q ON F.QUERYID = Q.ID\nJOIN \n    TIMEDIM AS T ON F.TIMEID = T.ID\nWHERE \n    (Q.QUERY LIKE '%employment%' \n     OR Q.QUERY LIKE '%job%'  \n     OR Q.QUERY LIKE '%Work%')\n    AND T.month IS NOT NULL\n    AND Q.QUERY IS NOT NULL\n    AND F.QUERYID IS NOT NULL\n    AND F.TIMEID IS NOT NULL\nGROUP BY \n    CUBE(T.month, Q.QUERY)\nORDER BY \n    T.month, search_count DESC\n) INTO CSV\nAT 'https://27.1.0.10:44440' FILE '000.csv'\nWITH COLUMN NAMES\n)\n",
     "output_type": "error",
     "traceback": [
      "\u001b[1;31m---------------------------------------------------------------------------\u001b[0m",
      "\u001b[1;31mEmptyDataError\u001b[0m                            Traceback (most recent call last)",
      "File \u001b[1;32mD:\\Projects\\anaconda\\Lib\\site-packages\\pandas\\io\\parsers\\readers.py:1898\u001b[0m, in \u001b[0;36mTextFileReader._make_engine\u001b[1;34m(self, f, engine)\u001b[0m\n\u001b[0;32m   1897\u001b[0m \u001b[38;5;28;01mtry\u001b[39;00m:\n\u001b[1;32m-> 1898\u001b[0m     \u001b[38;5;28;01mreturn\u001b[39;00m mapping[engine](f, \u001b[38;5;241m*\u001b[39m\u001b[38;5;241m*\u001b[39m\u001b[38;5;28mself\u001b[39m\u001b[38;5;241m.\u001b[39moptions)\n\u001b[0;32m   1899\u001b[0m \u001b[38;5;28;01mexcept\u001b[39;00m \u001b[38;5;167;01mException\u001b[39;00m:\n",
      "File \u001b[1;32mD:\\Projects\\anaconda\\Lib\\site-packages\\pandas\\io\\parsers\\c_parser_wrapper.py:93\u001b[0m, in \u001b[0;36mCParserWrapper.__init__\u001b[1;34m(self, src, **kwds)\u001b[0m\n\u001b[0;32m     92\u001b[0m     import_optional_dependency(\u001b[38;5;124m\"\u001b[39m\u001b[38;5;124mpyarrow\u001b[39m\u001b[38;5;124m\"\u001b[39m)\n\u001b[1;32m---> 93\u001b[0m \u001b[38;5;28mself\u001b[39m\u001b[38;5;241m.\u001b[39m_reader \u001b[38;5;241m=\u001b[39m parsers\u001b[38;5;241m.\u001b[39mTextReader(src, \u001b[38;5;241m*\u001b[39m\u001b[38;5;241m*\u001b[39mkwds)\n\u001b[0;32m     95\u001b[0m \u001b[38;5;28mself\u001b[39m\u001b[38;5;241m.\u001b[39munnamed_cols \u001b[38;5;241m=\u001b[39m \u001b[38;5;28mself\u001b[39m\u001b[38;5;241m.\u001b[39m_reader\u001b[38;5;241m.\u001b[39munnamed_cols\n",
      "File \u001b[1;32mparsers.pyx:581\u001b[0m, in \u001b[0;36mpandas._libs.parsers.TextReader.__cinit__\u001b[1;34m()\u001b[0m\n",
      "\u001b[1;31mEmptyDataError\u001b[0m: No columns to parse from file",
      "\nDuring handling of the above exception, another exception occurred:\n",
      "\u001b[1;31mValueError\u001b[0m                                Traceback (most recent call last)",
      "File \u001b[1;32mD:\\Projects\\anaconda\\Lib\\site-packages\\pyexasol\\connection.py:329\u001b[0m, in \u001b[0;36mExaConnection.export_to_callback\u001b[1;34m(self, callback, dst, query_or_table, query_params, callback_params, export_params)\u001b[0m\n\u001b[0;32m    328\u001b[0m \u001b[38;5;28;01mwith\u001b[39;00m http_thread\u001b[38;5;241m.\u001b[39mread_pipe \u001b[38;5;28;01mas\u001b[39;00m pipe:\n\u001b[1;32m--> 329\u001b[0m     result \u001b[38;5;241m=\u001b[39m callback(pipe, dst, \u001b[38;5;241m*\u001b[39m\u001b[38;5;241m*\u001b[39mcallback_params)\n\u001b[0;32m    331\u001b[0m http_thread\u001b[38;5;241m.\u001b[39mjoin_with_exc()\n",
      "File \u001b[1;32mD:\\Projects\\anaconda\\Lib\\site-packages\\pyexasol\\callback.py:42\u001b[0m, in \u001b[0;36mexport_to_pandas\u001b[1;34m(pipe, dst, **kwargs)\u001b[0m\n\u001b[0;32m     41\u001b[0m \u001b[38;5;28;01mimport\u001b[39;00m \u001b[38;5;21;01mpandas\u001b[39;00m\n\u001b[1;32m---> 42\u001b[0m \u001b[38;5;28;01mreturn\u001b[39;00m pandas\u001b[38;5;241m.\u001b[39mread_csv(pipe, skip_blank_lines\u001b[38;5;241m=\u001b[39m\u001b[38;5;28;01mFalse\u001b[39;00m, \u001b[38;5;241m*\u001b[39m\u001b[38;5;241m*\u001b[39mkwargs)\n",
      "File \u001b[1;32mD:\\Projects\\anaconda\\Lib\\site-packages\\pandas\\io\\parsers\\readers.py:1026\u001b[0m, in \u001b[0;36mread_csv\u001b[1;34m(filepath_or_buffer, sep, delimiter, header, names, index_col, usecols, dtype, engine, converters, true_values, false_values, skipinitialspace, skiprows, skipfooter, nrows, na_values, keep_default_na, na_filter, verbose, skip_blank_lines, parse_dates, infer_datetime_format, keep_date_col, date_parser, date_format, dayfirst, cache_dates, iterator, chunksize, compression, thousands, decimal, lineterminator, quotechar, quoting, doublequote, escapechar, comment, encoding, encoding_errors, dialect, on_bad_lines, delim_whitespace, low_memory, memory_map, float_precision, storage_options, dtype_backend)\u001b[0m\n\u001b[0;32m   1024\u001b[0m kwds\u001b[38;5;241m.\u001b[39mupdate(kwds_defaults)\n\u001b[1;32m-> 1026\u001b[0m \u001b[38;5;28;01mreturn\u001b[39;00m _read(filepath_or_buffer, kwds)\n",
      "File \u001b[1;32mD:\\Projects\\anaconda\\Lib\\site-packages\\pandas\\io\\parsers\\readers.py:620\u001b[0m, in \u001b[0;36m_read\u001b[1;34m(filepath_or_buffer, kwds)\u001b[0m\n\u001b[0;32m    619\u001b[0m \u001b[38;5;66;03m# Create the parser.\u001b[39;00m\n\u001b[1;32m--> 620\u001b[0m parser \u001b[38;5;241m=\u001b[39m TextFileReader(filepath_or_buffer, \u001b[38;5;241m*\u001b[39m\u001b[38;5;241m*\u001b[39mkwds)\n\u001b[0;32m    622\u001b[0m \u001b[38;5;28;01mif\u001b[39;00m chunksize \u001b[38;5;129;01mor\u001b[39;00m iterator:\n",
      "File \u001b[1;32mD:\\Projects\\anaconda\\Lib\\site-packages\\pandas\\io\\parsers\\readers.py:1620\u001b[0m, in \u001b[0;36mTextFileReader.__init__\u001b[1;34m(self, f, engine, **kwds)\u001b[0m\n\u001b[0;32m   1619\u001b[0m \u001b[38;5;28mself\u001b[39m\u001b[38;5;241m.\u001b[39mhandles: IOHandles \u001b[38;5;241m|\u001b[39m \u001b[38;5;28;01mNone\u001b[39;00m \u001b[38;5;241m=\u001b[39m \u001b[38;5;28;01mNone\u001b[39;00m\n\u001b[1;32m-> 1620\u001b[0m \u001b[38;5;28mself\u001b[39m\u001b[38;5;241m.\u001b[39m_engine \u001b[38;5;241m=\u001b[39m \u001b[38;5;28mself\u001b[39m\u001b[38;5;241m.\u001b[39m_make_engine(f, \u001b[38;5;28mself\u001b[39m\u001b[38;5;241m.\u001b[39mengine)\n",
      "File \u001b[1;32mD:\\Projects\\anaconda\\Lib\\site-packages\\pandas\\io\\parsers\\readers.py:1901\u001b[0m, in \u001b[0;36mTextFileReader._make_engine\u001b[1;34m(self, f, engine)\u001b[0m\n\u001b[0;32m   1900\u001b[0m \u001b[38;5;28;01mif\u001b[39;00m \u001b[38;5;28mself\u001b[39m\u001b[38;5;241m.\u001b[39mhandles \u001b[38;5;129;01mis\u001b[39;00m \u001b[38;5;129;01mnot\u001b[39;00m \u001b[38;5;28;01mNone\u001b[39;00m:\n\u001b[1;32m-> 1901\u001b[0m     \u001b[38;5;28mself\u001b[39m\u001b[38;5;241m.\u001b[39mhandles\u001b[38;5;241m.\u001b[39mclose()\n\u001b[0;32m   1902\u001b[0m \u001b[38;5;28;01mraise\u001b[39;00m\n",
      "File \u001b[1;32mD:\\Projects\\anaconda\\Lib\\site-packages\\pandas\\io\\common.py:140\u001b[0m, in \u001b[0;36mIOHandles.close\u001b[1;34m(self)\u001b[0m\n\u001b[0;32m    139\u001b[0m \u001b[38;5;28;01massert\u001b[39;00m \u001b[38;5;28misinstance\u001b[39m(\u001b[38;5;28mself\u001b[39m\u001b[38;5;241m.\u001b[39mhandle, TextIOWrapper)\n\u001b[1;32m--> 140\u001b[0m \u001b[38;5;28mself\u001b[39m\u001b[38;5;241m.\u001b[39mhandle\u001b[38;5;241m.\u001b[39mflush()\n\u001b[0;32m    141\u001b[0m \u001b[38;5;28mself\u001b[39m\u001b[38;5;241m.\u001b[39mhandle\u001b[38;5;241m.\u001b[39mdetach()\n",
      "\u001b[1;31mValueError\u001b[0m: I/O operation on closed file.",
      "\nDuring handling of the above exception, another exception occurred:\n",
      "\u001b[1;31mExaQueryError\u001b[0m                             Traceback (most recent call last)",
      "Cell \u001b[1;32mIn[112], line 3\u001b[0m\n\u001b[0;32m      1\u001b[0m \u001b[38;5;66;03m# Query the ANONIDDIM\u001b[39;00m\n\u001b[0;32m      2\u001b[0m \u001b[38;5;28;01mimport\u001b[39;00m \u001b[38;5;21;01mpandas\u001b[39;00m \u001b[38;5;28;01mas\u001b[39;00m \u001b[38;5;21;01mpd\u001b[39;00m\n\u001b[1;32m----> 3\u001b[0m output \u001b[38;5;241m=\u001b[39m connection\u001b[38;5;241m.\u001b[39mexport_to_pandas(q1_1)\n\u001b[0;32m      4\u001b[0m printer\u001b[38;5;241m.\u001b[39mpprint((output))\n",
      "File \u001b[1;32mD:\\Projects\\anaconda\\Lib\\site-packages\\pyexasol\\connection.py:293\u001b[0m, in \u001b[0;36mExaConnection.export_to_pandas\u001b[1;34m(self, query_or_table, query_params, callback_params, export_params)\u001b[0m\n\u001b[0;32m    289\u001b[0m     export_params \u001b[38;5;241m=\u001b[39m {}\n\u001b[0;32m    291\u001b[0m export_params[\u001b[38;5;124m'\u001b[39m\u001b[38;5;124mwith_column_names\u001b[39m\u001b[38;5;124m'\u001b[39m] \u001b[38;5;241m=\u001b[39m \u001b[38;5;28;01mTrue\u001b[39;00m\n\u001b[1;32m--> 293\u001b[0m \u001b[38;5;28;01mreturn\u001b[39;00m \u001b[38;5;28mself\u001b[39m\u001b[38;5;241m.\u001b[39mexport_to_callback(cb\u001b[38;5;241m.\u001b[39mexport_to_pandas, \u001b[38;5;28;01mNone\u001b[39;00m, query_or_table, query_params, callback_params, export_params)\n",
      "File \u001b[1;32mD:\\Projects\\anaconda\\Lib\\site-packages\\pyexasol\\connection.py:349\u001b[0m, in \u001b[0;36mExaConnection.export_to_callback\u001b[1;34m(self, callback, dst, query_or_table, query_params, callback_params, export_params)\u001b[0m\n\u001b[0;32m    347\u001b[0m \u001b[38;5;66;03m# Give SQL exception higher priority\u001b[39;00m\n\u001b[0;32m    348\u001b[0m \u001b[38;5;28;01mif\u001b[39;00m sql_thread\u001b[38;5;241m.\u001b[39mexc:\n\u001b[1;32m--> 349\u001b[0m     \u001b[38;5;28;01mraise\u001b[39;00m sql_thread\u001b[38;5;241m.\u001b[39mexc\n\u001b[0;32m    351\u001b[0m \u001b[38;5;28;01mraise\u001b[39;00m e\n",
      "File \u001b[1;32mD:\\Projects\\anaconda\\Lib\\site-packages\\pyexasol\\http_transport.py:35\u001b[0m, in \u001b[0;36mExaSQLThread.run\u001b[1;34m(self)\u001b[0m\n\u001b[0;32m     33\u001b[0m \u001b[38;5;28;01mdef\u001b[39;00m \u001b[38;5;21mrun\u001b[39m(\u001b[38;5;28mself\u001b[39m):\n\u001b[0;32m     34\u001b[0m     \u001b[38;5;28;01mtry\u001b[39;00m:\n\u001b[1;32m---> 35\u001b[0m         \u001b[38;5;28mself\u001b[39m\u001b[38;5;241m.\u001b[39mrun_sql()\n\u001b[0;32m     36\u001b[0m     \u001b[38;5;28;01mexcept\u001b[39;00m \u001b[38;5;167;01mBaseException\u001b[39;00m \u001b[38;5;28;01mas\u001b[39;00m e:\n\u001b[0;32m     37\u001b[0m         \u001b[38;5;28mself\u001b[39m\u001b[38;5;241m.\u001b[39mexc \u001b[38;5;241m=\u001b[39m e\n",
      "File \u001b[1;32mD:\\Projects\\anaconda\\Lib\\site-packages\\pyexasol\\http_transport.py:153\u001b[0m, in \u001b[0;36mExaSQLExportThread.run_sql\u001b[1;34m(self)\u001b[0m\n\u001b[0;32m    150\u001b[0m \u001b[38;5;28;01mif\u001b[39;00m \u001b[38;5;28mself\u001b[39m\u001b[38;5;241m.\u001b[39mparams\u001b[38;5;241m.\u001b[39mget(\u001b[38;5;124m'\u001b[39m\u001b[38;5;124mwith_column_names\u001b[39m\u001b[38;5;124m'\u001b[39m):\n\u001b[0;32m    151\u001b[0m     parts\u001b[38;5;241m.\u001b[39mappend(\u001b[38;5;124m\"\u001b[39m\u001b[38;5;124mWITH COLUMN NAMES\u001b[39m\u001b[38;5;124m\"\u001b[39m)\n\u001b[1;32m--> 153\u001b[0m \u001b[38;5;28mself\u001b[39m\u001b[38;5;241m.\u001b[39mconnection\u001b[38;5;241m.\u001b[39mexecute(\u001b[38;5;124m\"\u001b[39m\u001b[38;5;130;01m\\n\u001b[39;00m\u001b[38;5;124m\"\u001b[39m\u001b[38;5;241m.\u001b[39mjoin(parts))\n",
      "File \u001b[1;32mD:\\Projects\\anaconda\\Lib\\site-packages\\pyexasol\\connection.py:208\u001b[0m, in \u001b[0;36mExaConnection.execute\u001b[1;34m(self, query, query_params)\u001b[0m\n\u001b[0;32m    203\u001b[0m \u001b[38;5;28;01mdef\u001b[39;00m \u001b[38;5;21mexecute\u001b[39m(\u001b[38;5;28mself\u001b[39m, query, query_params\u001b[38;5;241m=\u001b[39m\u001b[38;5;28;01mNone\u001b[39;00m) \u001b[38;5;241m-\u001b[39m\u001b[38;5;241m>\u001b[39m ExaStatement:\n\u001b[0;32m    204\u001b[0m \u001b[38;5;250m    \u001b[39m\u001b[38;5;124;03m\"\"\"\u001b[39;00m\n\u001b[0;32m    205\u001b[0m \u001b[38;5;124;03m    Execute SQL query with optional query formatting parameters\u001b[39;00m\n\u001b[0;32m    206\u001b[0m \u001b[38;5;124;03m    Return ExaStatement object\u001b[39;00m\n\u001b[0;32m    207\u001b[0m \u001b[38;5;124;03m    \"\"\"\u001b[39;00m\n\u001b[1;32m--> 208\u001b[0m     \u001b[38;5;28;01mreturn\u001b[39;00m \u001b[38;5;28mself\u001b[39m\u001b[38;5;241m.\u001b[39mcls_statement(\u001b[38;5;28mself\u001b[39m, query, query_params)\n",
      "File \u001b[1;32mD:\\Projects\\anaconda\\Lib\\site-packages\\pyexasol\\statement.py:55\u001b[0m, in \u001b[0;36mExaStatement.__init__\u001b[1;34m(self, connection, query, query_params, prepare, meta_nosql, **options)\u001b[0m\n\u001b[0;32m     53\u001b[0m     \u001b[38;5;28mself\u001b[39m\u001b[38;5;241m.\u001b[39m_execute_meta_nosql()\n\u001b[0;32m     54\u001b[0m \u001b[38;5;28;01melse\u001b[39;00m:\n\u001b[1;32m---> 55\u001b[0m     \u001b[38;5;28mself\u001b[39m\u001b[38;5;241m.\u001b[39m_execute()\n",
      "File \u001b[1;32mD:\\Projects\\anaconda\\Lib\\site-packages\\pyexasol\\statement.py:157\u001b[0m, in \u001b[0;36mExaStatement._execute\u001b[1;34m(self)\u001b[0m\n\u001b[0;32m    156\u001b[0m \u001b[38;5;28;01mdef\u001b[39;00m \u001b[38;5;21m_execute\u001b[39m(\u001b[38;5;28mself\u001b[39m):\n\u001b[1;32m--> 157\u001b[0m     ret \u001b[38;5;241m=\u001b[39m \u001b[38;5;28mself\u001b[39m\u001b[38;5;241m.\u001b[39mconnection\u001b[38;5;241m.\u001b[39mreq({\n\u001b[0;32m    158\u001b[0m         \u001b[38;5;124m'\u001b[39m\u001b[38;5;124mcommand\u001b[39m\u001b[38;5;124m'\u001b[39m: \u001b[38;5;124m'\u001b[39m\u001b[38;5;124mexecute\u001b[39m\u001b[38;5;124m'\u001b[39m,\n\u001b[0;32m    159\u001b[0m         \u001b[38;5;124m'\u001b[39m\u001b[38;5;124msqlText\u001b[39m\u001b[38;5;124m'\u001b[39m: \u001b[38;5;28mself\u001b[39m\u001b[38;5;241m.\u001b[39mquery,\n\u001b[0;32m    160\u001b[0m     })\n\u001b[0;32m    162\u001b[0m     \u001b[38;5;28mself\u001b[39m\u001b[38;5;241m.\u001b[39mexecution_time \u001b[38;5;241m=\u001b[39m \u001b[38;5;28mself\u001b[39m\u001b[38;5;241m.\u001b[39mconnection\u001b[38;5;241m.\u001b[39mws_req_time\n\u001b[0;32m    163\u001b[0m     \u001b[38;5;28mself\u001b[39m\u001b[38;5;241m.\u001b[39m_init_result_set(ret)\n",
      "File \u001b[1;32mD:\\Projects\\anaconda\\Lib\\site-packages\\pyexasol\\connection.py:572\u001b[0m, in \u001b[0;36mExaConnection.req\u001b[1;34m(self, req)\u001b[0m\n\u001b[0;32m    569\u001b[0m     \u001b[38;5;28;01melse\u001b[39;00m:\n\u001b[0;32m    570\u001b[0m         cls_err \u001b[38;5;241m=\u001b[39m ExaQueryError\n\u001b[1;32m--> 572\u001b[0m     \u001b[38;5;28;01mraise\u001b[39;00m cls_err(\u001b[38;5;28mself\u001b[39m, req[\u001b[38;5;124m'\u001b[39m\u001b[38;5;124msqlText\u001b[39m\u001b[38;5;124m'\u001b[39m], ret[\u001b[38;5;124m'\u001b[39m\u001b[38;5;124mexception\u001b[39m\u001b[38;5;124m'\u001b[39m][\u001b[38;5;124m'\u001b[39m\u001b[38;5;124msqlCode\u001b[39m\u001b[38;5;124m'\u001b[39m], ret[\u001b[38;5;124m'\u001b[39m\u001b[38;5;124mexception\u001b[39m\u001b[38;5;124m'\u001b[39m][\u001b[38;5;124m'\u001b[39m\u001b[38;5;124mtext\u001b[39m\u001b[38;5;124m'\u001b[39m])\n\u001b[0;32m    573\u001b[0m \u001b[38;5;28;01melif\u001b[39;00m req\u001b[38;5;241m.\u001b[39mget(\u001b[38;5;124m'\u001b[39m\u001b[38;5;124musername\u001b[39m\u001b[38;5;124m'\u001b[39m) \u001b[38;5;129;01mis\u001b[39;00m \u001b[38;5;129;01mnot\u001b[39;00m \u001b[38;5;28;01mNone\u001b[39;00m:\n\u001b[0;32m    574\u001b[0m     \u001b[38;5;28;01mraise\u001b[39;00m ExaAuthError(\u001b[38;5;28mself\u001b[39m, ret[\u001b[38;5;124m'\u001b[39m\u001b[38;5;124mexception\u001b[39m\u001b[38;5;124m'\u001b[39m][\u001b[38;5;124m'\u001b[39m\u001b[38;5;124msqlCode\u001b[39m\u001b[38;5;124m'\u001b[39m], ret[\u001b[38;5;124m'\u001b[39m\u001b[38;5;124mexception\u001b[39m\u001b[38;5;124m'\u001b[39m][\u001b[38;5;124m'\u001b[39m\u001b[38;5;124mtext\u001b[39m\u001b[38;5;124m'\u001b[39m])\n",
      "\u001b[1;31mExaQueryError\u001b[0m: \n(\n    message     =>  object T.MONTH not found [line 3, column 5] (Session: 1815699415788877157)\n    dsn         =>  192.168.56.101:8563\n    user        =>  sys\n    schema      =>  AOL_SCHEMA\n    session_id  =>  1815699415788877157\n    code        =>  42000\n    query       =>  EXPORT (\nSELECT \n    T.month,\n    Q.QUERY AS keyword,\n    COUNT(F.QUERYID) AS search_count\nFROM \n    FACTS AS F\nJOIN \n    QUERYDIM AS Q ON F.QUERYID = Q.ID\nJOIN \n    TIMEDIM AS T ON F.TIMEID = T.ID\nWHERE \n    (Q.QUERY LIKE '%employment%' \n     OR Q.QUERY LIKE '%job%'  \n     OR Q.QUERY LIKE '%Work%')\n    AND T.month IS NOT NULL\n    AND Q.QUERY IS NOT NULL\n    AND F.QUERYID IS NOT NULL\n    AND F.TIMEID IS NOT NULL\nGROUP BY \n    CUBE(T.month, Q.QUERY)\nORDER BY \n    T.month, search_count DESC\n) INTO CSV\nAT 'https://27.1.0.10:44440' FILE '000.csv'\nWITH COLUMN NAMES\n)\n"
     ]
    }
   ],
   "source": [
    "# Query the ANONIDDIM\n",
    "import pandas as pd\n",
    "output = connection.export_to_pandas(q1_1)\n",
    "printer.pprint((output))"
   ]
  }
 ],
 "metadata": {
  "kernelspec": {
   "display_name": "Python 3 (ipykernel)",
   "language": "python",
   "name": "python3"
  },
  "language_info": {
   "codemirror_mode": {
    "name": "ipython",
    "version": 3
   },
   "file_extension": ".py",
   "mimetype": "text/x-python",
   "name": "python",
   "nbconvert_exporter": "python",
   "pygments_lexer": "ipython3",
   "version": "3.12.4"
  }
 },
 "nbformat": 4,
 "nbformat_minor": 5
}
